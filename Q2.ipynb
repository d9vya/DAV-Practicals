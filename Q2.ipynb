{
 "cells": [
  {
   "cell_type": "markdown",
   "metadata": {},
   "source": [
    "# 2. Write programs in Python using NumPy library to do the following:"
   ]
  },
  {
   "cell_type": "code",
   "execution_count": 3,
   "metadata": {},
   "outputs": [],
   "source": [
    "import numpy as np"
   ]
  },
  {
   "cell_type": "markdown",
   "metadata": {},
   "source": [
    "## a. Compute the mean, standard deviation, and variance of a two dimensional random integer array along the second axis."
   ]
  },
  {
   "cell_type": "code",
   "execution_count": 4,
   "metadata": {},
   "outputs": [
    {
     "data": {
      "text/plain": [
       "array([[ 8,  8, 49, 11, 34, 13],\n",
       "       [30, 30, 21, 10, 39, 30],\n",
       "       [ 7,  4, 37, 45, 20, 20],\n",
       "       [29, 25, 25, 26, 21,  7]])"
      ]
     },
     "execution_count": 4,
     "metadata": {},
     "output_type": "execute_result"
    }
   ],
   "source": [
    "arr = np.random.randint(1,50,(4,6))\n",
    "arr"
   ]
  },
  {
   "cell_type": "code",
   "execution_count": 5,
   "metadata": {},
   "outputs": [
    {
     "name": "stdout",
     "output_type": "stream",
     "text": [
      "Mean:  [20.5        26.66666667 22.16666667 22.16666667]\n",
      "Standard Deviation:  [15.56438242  9.08600878 14.78080587  7.17441442]\n",
      "Variance:  [242.25        82.55555556 218.47222222  51.47222222]\n"
     ]
    }
   ],
   "source": [
    "#Mean\n",
    "print('Mean: ',arr.mean(axis=1))\n",
    "#standard deviation\n",
    "print('Standard Deviation: ',arr.std(axis=1))\n",
    "#variance\n",
    "print('Variance: ',arr.var(axis=1))"
   ]
  },
  {
   "cell_type": "markdown",
   "metadata": {},
   "source": [
    "## b. Get the indices of the sorted elements of a given array. \n",
    "## B = [56, 48, 22, 41, 78, 91, 24, 46, 8, 33]"
   ]
  },
  {
   "cell_type": "code",
   "execution_count": 6,
   "metadata": {},
   "outputs": [
    {
     "name": "stdout",
     "output_type": "stream",
     "text": [
      "Sorted array:  [ 8 22 24 33 41 46 48 56 78 91]\n",
      "Indices of the sorted elements of a given array:  [8 2 6 9 3 7 1 0 4 5]\n"
     ]
    }
   ],
   "source": [
    "B = [56, 48, 22, 41, 78, 91, 24, 46, 8, 33]\n",
    "arr1 = np.array(B)\n",
    "print(\"Sorted array: \",np.sort(arr1))\n",
    "print(\"Indices of the sorted elements of a given array: \",np.argsort(arr1))"
   ]
  },
  {
   "cell_type": "markdown",
   "metadata": {},
   "source": [
    "## c. Create a 2-dimensional array of size m x n integer elements, also print the shape, type and datatype of the array and then reshape it into nx m array, n and m are user inputs given at the run time."
   ]
  },
  {
   "cell_type": "code",
   "execution_count": 7,
   "metadata": {},
   "outputs": [
    {
     "name": "stdout",
     "output_type": "stream",
     "text": [
      "Enter the number of rows: 3\n",
      "Enter the number of columns: 4\n",
      "[[ 8 58 71 67]\n",
      " [11 36 33 93]\n",
      " [12  4 28 37]]\n",
      "Shape:  (3, 4)\n",
      "Type:  <class 'numpy.ndarray'>\n",
      "Data Type:  int32\n",
      "After reshaping: \n",
      " [[ 8 58 71]\n",
      " [67 11 36]\n",
      " [33 93 12]\n",
      " [ 4 28 37]]\n",
      "New Shape:  (4, 3)\n"
     ]
    }
   ],
   "source": [
    "m = int(input('Enter the number of rows: '))\n",
    "n = int(input('Enter the number of columns: '))\n",
    "arr2 = np.random.randint(1,100,(m,n))\n",
    "print(arr2)\n",
    "print('Shape: ',arr2.shape)\n",
    "print('Type: ',type(arr2))\n",
    "print('Data Type: ',arr2.dtype)\n",
    "arr2 = arr2.reshape(n,m)\n",
    "print('After reshaping: \\n',arr2)\n",
    "print('New Shape: ',arr2.shape)"
   ]
  },
  {
   "cell_type": "markdown",
   "metadata": {},
   "source": [
    "## d. Test whether the elements of a given array are zero, non-zero and NaN. Record the indices of these elements in three separate arrays."
   ]
  },
  {
   "cell_type": "code",
   "execution_count": 8,
   "metadata": {},
   "outputs": [
    {
     "name": "stdout",
     "output_type": "stream",
     "text": [
      "THE ARRAY IS:  [ 1.  0.  3.  4.  0.  0.  3.  2.  1. nan  3. nan]\n"
     ]
    }
   ],
   "source": [
    "x = np.array([1, 0, 3, 4, 0, 0, 3, 2, 1, np.nan, 3, np.nan])\n",
    "print(\"THE ARRAY IS: \",x)"
   ]
  },
  {
   "cell_type": "code",
   "execution_count": 9,
   "metadata": {},
   "outputs": [
    {
     "name": "stdout",
     "output_type": "stream",
     "text": [
      "\n",
      "Test whether elements of the array are zero :  False\n",
      "The indices of the  zero elements:  [1 4 5]\n"
     ]
    }
   ],
   "source": [
    "print(\"\\nTest whether elements of the array are zero : \", np.all(x))\n",
    "res = np.where(x == 0)[0]\n",
    "print(\"The indices of the  zero elements: \",res)"
   ]
  },
  {
   "cell_type": "code",
   "execution_count": 10,
   "metadata": {},
   "outputs": [
    {
     "name": "stdout",
     "output_type": "stream",
     "text": [
      "\n",
      "Test whether elements of the array are non-zero :  True\n",
      "The indices of the non- zero elements:  [ 0  2  3  6  7  8  9 10 11]\n"
     ]
    }
   ],
   "source": [
    "print(\"\\nTest whether elements of the array are non-zero : \",np.any(x))\n",
    "res = np.where(x != 0)[0]\n",
    "print(\"The indices of the non- zero elements: \",res)"
   ]
  },
  {
   "cell_type": "code",
   "execution_count": 11,
   "metadata": {},
   "outputs": [
    {
     "name": "stdout",
     "output_type": "stream",
     "text": [
      "\n",
      "Test whether elements of the array are NaN ::  [False False False False False False False False False  True False  True]\n",
      "The indices of the NaN elements:  [ 9 11]\n"
     ]
    }
   ],
   "source": [
    "print(\"\\nTest whether elements of the array are NaN :: \",np.isnan(x))\n",
    "res = np.where(np.isnan(x) == True)[0]\n",
    "print(\"The indices of the NaN elements: \",res)"
   ]
  },
  {
   "cell_type": "code",
   "execution_count": null,
   "metadata": {
    "scrolled": false
   },
   "outputs": [],
   "source": []
  },
  {
   "cell_type": "code",
   "execution_count": null,
   "metadata": {},
   "outputs": [],
   "source": []
  }
 ],
 "metadata": {
  "kernelspec": {
   "display_name": "Python 3 (ipykernel)",
   "language": "python",
   "name": "python3"
  },
  "language_info": {
   "codemirror_mode": {
    "name": "ipython",
    "version": 3
   },
   "file_extension": ".py",
   "mimetype": "text/x-python",
   "name": "python",
   "nbconvert_exporter": "python",
   "pygments_lexer": "ipython3",
   "version": "3.9.13"
  }
 },
 "nbformat": 4,
 "nbformat_minor": 4
}
