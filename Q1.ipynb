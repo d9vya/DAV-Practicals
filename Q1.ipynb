{
 "cells": [
  {
   "cell_type": "markdown",
   "id": "9cedcb3d",
   "metadata": {},
   "source": [
    "# Q1. Given below is a dictionary having two keys ‘Boys’ and ‘Girls’ and having two lists of heights of five Boys and Five Girls respectively as values associated with these keys\n",
    "# Original dictionary of lists:\n",
    "# {'Boys': [72, 68, 70, 69, 74], 'Girls': [63, 65, 69, 62, 61]}\n",
    "# From the given dictionary of lists create the following list of dictionaries:\n",
    "# [{'Boys': 72, 'Girls': 63}, {'Boys': 68, 'Girls': 65}, {'Boys': 70, 'Girls': 69}, {'Boys': 69, 'Girls': 62}, {‘Boys’:74, ‘Girls’:61]"
   ]
  },
  {
   "cell_type": "code",
   "execution_count": 1,
   "id": "3ac53dd3",
   "metadata": {},
   "outputs": [
    {
     "name": "stdout",
     "output_type": "stream",
     "text": [
      "[{'Boys': 72, 'Girls': 63}, {'Boys': 68, 'Girls': 65}, {'Boys': 70, 'Girls': 69}, {'Boys': 69, 'Girls': 62}, {'Boys': 74, 'Girls': 61}]\n"
     ]
    }
   ],
   "source": [
    "Dict = {'Boys':[72,68,70,69,74], 'Girls':[63,65,69,62,61]}\n",
    "keys = list(Dict.keys())\n",
    "\n",
    "data1 = Dict[keys[0]]\n",
    "data2 = Dict[keys[1]]\n",
    "\n",
    "j = len(data1)\n",
    "\n",
    "res = []\n",
    "for i in range(j):\n",
    "        t1 = {}\n",
    "        t1[keys[0]] = data1[i]\n",
    "        t1[keys[1]] = data2[i]\n",
    "        res.append(t1)    \n",
    "print(res)"
   ]
  }
 ],
 "metadata": {
  "kernelspec": {
   "display_name": "Python 3 (ipykernel)",
   "language": "python",
   "name": "python3"
  },
  "language_info": {
   "codemirror_mode": {
    "name": "ipython",
    "version": 3
   },
   "file_extension": ".py",
   "mimetype": "text/x-python",
   "name": "python",
   "nbconvert_exporter": "python",
   "pygments_lexer": "ipython3",
   "version": "3.9.13"
  }
 },
 "nbformat": 4,
 "nbformat_minor": 5
}
